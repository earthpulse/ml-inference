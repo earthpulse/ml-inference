{
 "cells": [
  {
   "cell_type": "code",
   "execution_count": 58,
   "metadata": {},
   "outputs": [
    {
     "name": "stdout",
     "output_type": "stream",
     "text": [
      "The autoreload extension is already loaded. To reload it, use:\n",
      "  %reload_ext autoreload\n"
     ]
    }
   ],
   "source": [
    "%load_ext autoreload\n",
    "%autoreload 2"
   ]
  },
  {
   "cell_type": "markdown",
   "metadata": {},
   "source": [
    "# EuroSAT-RGB-BiDS23"
   ]
  },
  {
   "cell_type": "markdown",
   "metadata": {},
   "source": [
    "The model is trained for the task of image classification on the EuroSAT-RGB dataset. It expects RGB images and returns a probability distrubtion over the 10 classes:\n",
    "\n",
    " - AnnualCrop\n",
    " - Forest\n",
    " - HerbaceousVegetation\n",
    " - Highway\n",
    " - Industrial\n",
    " - Pasture\n",
    " - PermanentCrop\n",
    " - Residential\n",
    " - River\n",
    " - SeaLake"
   ]
  },
  {
   "cell_type": "markdown",
   "metadata": {},
   "source": [
    "## Image Exploration"
   ]
  },
  {
   "cell_type": "markdown",
   "metadata": {},
   "source": [
    "An image of the EUROSAT dataset has been selected as an input for the model. Let's explore how it looks like and it's main metadata."
   ]
  },
  {
   "cell_type": "markdown",
   "metadata": {},
   "source": [
    "### Visualize a test RGB image from EUROSAT dataset"
   ]
  },
  {
   "cell_type": "code",
   "execution_count": 59,
   "metadata": {},
   "outputs": [
    {
     "data": {
      "image/png": "[encoded data removed]",
      "text/plain": [
       "<Figure size 640x480 with 1 Axes>"
      ]
     },
     "metadata": {},
     "output_type": "display_data"
    }
   ],
   "source": [
    "\n",
    "from PIL import Image\n",
    "import matplotlib.pyplot as plt\n",
    "\n",
    "img_path = '../data/EuroSAT-RGB/AnnualCrop/AnnualCrop_4.jpg'\n",
    "\n",
    "img = Image.open(img_path)\n",
    "plt.imshow(img)\n",
    "plt.axis('off')\n",
    "plt.show()"
   ]
  },
  {
   "cell_type": "markdown",
   "metadata": {},
   "source": [
    "### Main metadata of the image"
   ]
  },
  {
   "cell_type": "code",
   "execution_count": 60,
   "metadata": {},
   "outputs": [
    {
     "name": "stdout",
     "output_type": "stream",
     "text": [
      "Image size: (64, 64)\n",
      "Image mode: RGB\n",
      "Image format: JPEG\n"
     ]
    }
   ],
   "source": [
    "print('Image size:', img.size)\n",
    "print('Image mode:', img.mode)\n",
    "print('Image format:', img.format)"
   ]
  },
  {
   "cell_type": "markdown",
   "metadata": {},
   "source": [
    "# API Request "
   ]
  },
  {
   "cell_type": "markdown",
   "metadata": {},
   "source": [
    "The API of the \"On-the-fly ML Inference Processor\" expects:\n",
    "\n",
    "- The name of the model ingested in EOTDL\n",
    "- The inputs that the model expects, in this case, an RGB image.\n",
    "- (Optionally) The inference time \n",
    "\n",
    "For this example, only the model name and the model input are going to be passed to the API Request."
   ]
  },
  {
   "cell_type": "code",
   "execution_count": 61,
   "metadata": {},
   "outputs": [],
   "source": [
    "model_name = 'EuroSAT-RGB-BiDS23'\n",
    "input_path = '../data/EuroSAT-RGB/AnnualCrop/AnnualCrop_4.jpg'"
   ]
  },
  {
   "cell_type": "code",
   "execution_count": 89,
   "metadata": {},
   "outputs": [],
   "source": [
    "import requests\n",
    "\n",
    "url = f'http://localhost:8000/{model_name}'\n",
    "\n",
    "data = {\n",
    "    'img_file': (open(input_path, 'rb')),\n",
    "}\n",
    "\n",
    "response = requests.post(url,  files=data)"
   ]
  },
  {
   "cell_type": "code",
   "execution_count": 65,
   "metadata": {},
   "outputs": [
    {
     "name": "stdout",
     "output_type": "stream",
     "text": [
      "{'detail': \"name 'img_array' is not defined\"}\n"
     ]
    }
   ],
   "source": [
    "# print(response.json()[\"class\"])\n",
    "print(response.json())"
   ]
  }
 ],
 "metadata": {
  "kernelspec": {
   "display_name": "Python 3",
   "language": "python",
   "name": "python3"
  },
  "language_info": {
   "codemirror_mode": {
    "name": "ipython",
    "version": 3
   },
   "file_extension": ".py",
   "mimetype": "text/x-python",
   "name": "python",
   "nbconvert_exporter": "python",
   "pygments_lexer": "ipython3",
   "version": "3.8.19"
  }
 },
 "nbformat": 4,
 "nbformat_minor": 2
}
